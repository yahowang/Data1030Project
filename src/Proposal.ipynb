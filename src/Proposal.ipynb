{
 "cells": [
  {
   "cell_type": "markdown",
   "metadata": {},
   "source": [
    "# $$\\textrm{Project Proposal}$$\n",
    "#### $$\\textrm{Yi Wang}$$\n",
    "###### $$\\textrm{Banner ID: B01629467}$$\n",
    "###### $$\\textrm{Brown ID: 140304323}$$"
   ]
  },
  {
   "cell_type": "markdown",
   "metadata": {},
   "source": [
    "Because of the advance of financial crediting system, customers are able to make an expense with their creditability and pay off in the future. Yet, it is challenging yet vital for banks to determine whether their customers would have the ability to pay off their credits to minimize the risk of capital loss. Therefore, one of the ways of doing so is to track historical transactions and payments to target potential customers who will not meet payoff requirements. These customers will be classified and will have a greater change of fedault in the future. "
   ]
  },
  {
   "cell_type": "markdown",
   "metadata": {},
   "source": [
    "In this project, the dataset was obtained from banks in Taiwan and was meant to target the case of customers default payments. This is a binary classification problem and the target valuable is  whether acustomer will default or not based on different features and payment histories. This project is interesting and meaningful because it will help banks to target potential default payments and make a better decision with the customers."
   ]
  },
  {
   "cell_type": "markdown",
   "metadata": {},
   "source": [
    "GitHub Page: https://github.com/yahowang/Data1030Project"
   ]
  },
  {
   "cell_type": "markdown",
   "metadata": {},
   "source": [
    "Source: http://archive.ics.uci.edu/ml/datasets/default+of+credit+card+clients"
   ]
  },
  {
   "cell_type": "markdown",
   "metadata": {},
   "source": [
    "Number of Instances: 30000\n",
    "\n",
    "Number of Features: 24"
   ]
  },
  {
   "cell_type": "markdown",
   "metadata": {},
   "source": [
    "### Original Features in the dataset:"
   ]
  },
  {
   "cell_type": "markdown",
   "metadata": {},
   "source": [
    "$X_1$: Amount of the given credit (NT dollar): it includes both the individual consumer credit and his/her family (supplementary) credit.\n",
    "\n",
    "$X_2$: Sex (1 = male; 2 = female).\n",
    "\n",
    "$X_3$: Education (1 = graduate school; 2 = university; 3 = high school; 0,4,5,6 = others).\n",
    "\n",
    "$X_4$: Marriage (1 = married; 2 = single; 3 = divorce; 0 = others).\n",
    "\n",
    "$X_5$: Age (year).\n",
    "\n",
    "$X_6$ - $X_{11}$: History of past payment (with 10 categories for each feature).\n",
    "- The measurement scale for the repayment status is: \n",
    "  - -2 = No consumption\n",
    "  - -1 = payment in full\n",
    "  - 0 = minimum amount of payment\n",
    "  - 1 = payment delay for one month\n",
    "  - 2 = payment delay for two months\n",
    "  - 3 = payment delay for three months\n",
    "  - 4 = payment delay for four months\n",
    "  - 5 = payment delay for five months\n",
    "  - 6 = payment delay for six months\n",
    "  - 7 = payment delay for seven months\n",
    "  - 8 = payment delay for eight months\n",
    "  - 9 = payment delay for nine months and above\n",
    "- $X_6$ = the repayment status in September, 2005 \n",
    "- $X_7$ = the repayment status in August, 2005\n",
    "- $X_8$ = the repayment status in July, 2005\n",
    "- $X_9$ = the repayment status in June, 2005\n",
    "- $X_{10}$ = the repayment status in May, 2005\n",
    "- $X_{11}$ = the repayment status in April, 2005\n",
    "\n",
    "$X_{12}$-$X_{17}$: Amount of bill statement (NT dollar)\n",
    "- $X_{12}$ = amount of bill statement in September, 2005\n",
    "- $X_{13}$ = amount of bill statement in August, 2005\n",
    "- $X_{14}$ = amount of bill statement in July, 2005\n",
    "- $X_{15}$ = amount of bill statement in June, 2005\n",
    "- $X_{16}$ = amount of bill statement in May, 2005\n",
    "- $X_{17}$ = amount of bill statement in April, 2005\n",
    "\n",
    "$X_{18}$-$X_{23}$: Amount of previous payment (NT dollar).\n",
    "- $X_{18}$ = amount paid in September, 2005\n",
    "- $X_{19}$ = amount paid in August, 2005\n",
    "- $X_{20}$ = amount paid in July, 2005\n",
    "- $X_{21}$ = amount paid in June, 2005\n",
    "- $X_{22}$ = amount paid in May, 2005\n",
    "- $X_{23}$ = amount paid in April, 2005.\n",
    "\n",
    "$X_{24}$: Whether the customer will default in the next session (1 = Yes; 0 = No)"
   ]
  },
  {
   "cell_type": "markdown",
   "metadata": {},
   "source": [
    "### Public Paper:\n",
    "\n",
    "1) Yeh, I. C., & Lien, C. H. (2009). The comparisons of data mining techniques for the predictive accuracy of probability of default of credit card clients. Expert Systems with Applications, 36(2), 2473-2480.\n",
    "- This paper applies six different approaches to the dataset and concludes that artificial neural network is the only one that canaccurately estimate the real probability of default.\n",
    "\n",
    "2) Islam, Sheikh Rabiul, William Eberle, and Sheikh Khaled Ghafoor. \"Credit default mining using combined machine learning and heuristic approach.\" arXiv preprint arXiv:1807.01176 (2018).\n",
    "- The paper presents and validates a heuristic approach to mine potential default accounts in advance where a risk probability is precomputed from all previous data and the risk probability for recent transactions are computed as soon they happen."
   ]
  },
  {
   "cell_type": "markdown",
   "metadata": {},
   "source": [
    "### Data Preprocessing"
   ]
  },
  {
   "cell_type": "markdown",
   "metadata": {},
   "source": [
    "1) For $X_1$(Limit of Balance) and $X_5$(Age), I used MinMaxScaler because they are believed to fall within a certain interval. <br>\n",
    "2) For $X_2$(Sex), $X_4$(Marriage), $X_6$(Payment in September), $X_7$(Payment in August), $X_8$(Payment in July), $X_9$(Payment in June), $X_{10}$(Payment in May), $X_{11}$(Payment in April), I used OneHot Encoder because they do not have ordinality but just unordered categories. <br>\n",
    "3) For $X_{24}$(Response Variable), I changed the name of the feature to Y. <br>\n",
    "4) In the original dataset, the first column contains IDs and it is dropped.<br>\n",
    "4) As the result, there are 86 features (columns) in the preprocessed data in total."
   ]
  },
  {
   "cell_type": "code",
   "execution_count": null,
   "metadata": {},
   "outputs": [],
   "source": []
  }
 ],
 "metadata": {
  "kernelspec": {
   "display_name": "Python 3",
   "language": "python",
   "name": "python3"
  },
  "language_info": {
   "codemirror_mode": {
    "name": "ipython",
    "version": 3
   },
   "file_extension": ".py",
   "mimetype": "text/x-python",
   "name": "python",
   "nbconvert_exporter": "python",
   "pygments_lexer": "ipython3",
   "version": "3.7.3"
  }
 },
 "nbformat": 4,
 "nbformat_minor": 4
}
