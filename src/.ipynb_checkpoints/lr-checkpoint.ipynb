{
 "cells": [
  {
   "cell_type": "code",
   "execution_count": 3,
   "metadata": {},
   "outputs": [],
   "source": [
    "import pandas as pd\n",
    "import numpy as np\n",
    "from matplotlib import pylab as plt\n",
    "import matplotlib\n",
    "from collections import Counter\n",
    "from sklearn.preprocessing import LabelEncoder\n",
    "import warnings\n",
    "warnings.filterwarnings(\"ignore\")\n",
    "import math\n",
    "from preprocess import *\n",
    "%matplotlib inline\n",
    "\n",
    "file_name = \"~/Data1030Project/data/data.xls\"\n",
    "df = pd.read_excel(file_name, skiprows = 1)\n",
    "df = df.drop(\"ID\", axis = 1)\n",
    "# Special part - features have mixed types\n",
    "mixed_features = [\"PAY_0\", \"PAY_2\", \"PAY_3\", \"PAY_4\", \"PAY_5\", \"PAY_6\"]\n",
    "for mixed_feature in mixed_features:\n",
    "    for i in range(-2,1):\n",
    "        df[mixed_feature + \"_\" + str(i)] = [1 if t else 0 for t in df[mixed_feature] == i]\n",
    "        df[mixed_feature] = [0 if t == i else t for t in df[mixed_feature]]\n",
    "\n",
    "# Label Encoder for the class variable\n",
    "le = LabelEncoder()\n",
    "Y = pd.DataFrame(le.fit_transform(df[\"default payment next month\"]), columns = [\"Y\"])\n",
    "df = df.drop(\"default payment next month\", axis = 1)\n",
    "df = pd.concat([df, Y], axis = 1)\n",
    "ftr_names = df.drop(\"Y\", axis = 1).columns"
   ]
  },
  {
   "cell_type": "code",
   "execution_count": 4,
   "metadata": {},
   "outputs": [],
   "source": [
    "y = df[\"Y\"]\n",
    "X = df.drop(columns = \"Y\")"
   ]
  },
  {
   "cell_type": "code",
   "execution_count": 5,
   "metadata": {},
   "outputs": [],
   "source": [
    "from confusionmatrix import *\n",
    "from sklearn.model_selection import train_test_split\n",
    "from sklearn.model_selection import StratifiedKFold\n",
    "from sklearn.linear_model import LogisticRegression\n",
    "from sklearn.metrics import f1_score, accuracy_score, roc_curve, auc\n",
    "\n",
    "def ML_pipeline_kfold_logi_reg(X,y,random_state,n_folds):\n",
    "    \n",
    "    ## Split your data in a stratified manner, 5 stratified folds.\n",
    "    X_other, X_test, y_other, y_test = train_test_split(X, y, test_size=0.2, random_state = random_state, stratify = y)\n",
    "    X_test.reset_index(drop=True, inplace=True)\n",
    "    y_test.reset_index(drop=True, inplace=True)\n",
    "    \n",
    "    test_scores = []\n",
    "    best_alphas = []\n",
    "    best_models = []\n",
    "    best_rocs = []\n",
    "    y_preds = []\n",
    "    kf = StratifiedKFold(n_splits=n_folds,shuffle=True,random_state=random_state)\n",
    "\n",
    "    for train_index, CV_index in kf.split(X_other,y_other):\n",
    "        X_train, X_CV = X_other.iloc[train_index], X_other.iloc[CV_index]\n",
    "        y_train, y_CV = y_other.iloc[train_index], y_other.iloc[CV_index]\n",
    "        X_train.reset_index(drop=True, inplace=True)\n",
    "        y_train.reset_index(drop=True, inplace=True)\n",
    "        X_CV.reset_index(drop=True, inplace=True)\n",
    "        y_CV.reset_index(drop=True, inplace=True)     \n",
    "        \n",
    "        ## Preprocessing\n",
    "        X_train, sscaler, ohe, minmax = preprocess_train(X_train)\n",
    "        X_c = preprocess_other(X_CV, sscaler, ohe, minmax)\n",
    "        X_t = preprocess_other(X_test, sscaler, ohe, minmax)\n",
    "        \n",
    "        # Logistic Regression\n",
    "        alpha = np.logspace(-5,5,num = 11)\n",
    "        CV_f1_score = []\n",
    "        models = []\n",
    "        for a in alpha:\n",
    "            reg = LogisticRegression(penalty='l1',C = 1/a, solver='saga', max_iter = 1e4)\n",
    "            reg.fit(X_train,y_train)\n",
    "            CV_f1_score.append(f1_score(y_CV,reg.predict(X_c)))\n",
    "            models.append(reg)\n",
    "\n",
    "        # find the best alpha and best model in this trail\n",
    "        best_alpha = alpha[np.argmax(CV_f1_score)]\n",
    "        model = models[np.argmax(CV_f1_score)]\n",
    "        y_pred = model.predict(X_t)\n",
    "        fpr, tpr, threshold = roc_curve(y_test, model.predict_proba(X_t)[:,1])\n",
    "        \n",
    "        y_preds.append(y_pred)\n",
    "        best_models.append(model)\n",
    "        best_rocs.append((fpr, tpr, auc(fpr, tpr)))\n",
    "        best_alphas.append(best_alpha)\n",
    "        test_scores.append(accuracy_score(y_test, y_pred))\n",
    "\n",
    "    confusion = (y_test, y_preds[np.argmax(test_scores)])\n",
    "    best_score = np.max(test_scores)\n",
    "    best_alpha = best_alphas[np.argmax(test_scores)]\n",
    "    best_roc = best_rocs[np.argmax(test_scores)]\n",
    "    best_model = best_models[np.argmax(test_scores)]\n",
    "\n",
    "    return best_score, best_alpha, confusion, best_roc, best_model"
   ]
  },
  {
   "cell_type": "code",
   "execution_count": 4,
   "metadata": {},
   "outputs": [
    {
     "name": "stdout",
     "output_type": "stream",
     "text": [
      "Best alpha: 0.1 at random state = 1\n",
      "Best alpha: 0.001 at random state = 4\n",
      "Best alpha: 1.0 at random state = 9\n",
      "Best alpha: 0.001 at random state = 16\n",
      "Best alpha: 0.001 at random state = 25\n",
      "Best alpha: 0.001 at random state = 36\n",
      "Best alpha: 0.01 at random state = 49\n",
      "Best alpha: 1.0 at random state = 64\n",
      "Best alpha: 0.001 at random state = 81\n"
     ]
    }
   ],
   "source": [
    "n_folds = 5\n",
    "\n",
    "best_scores = []\n",
    "best_alphas = []\n",
    "best_confusion = []\n",
    "best_rocs = []\n",
    "best_models = []\n",
    "\n",
    "for i in range(1,10):\n",
    "    best_score, best_alpha, confusion, best_roc, best_model = ML_pipeline_kfold_logi_reg(X,y,i**2,n_folds)\n",
    "    best_scores.append(best_score)\n",
    "    best_alphas.append(best_alpha)\n",
    "    best_confusion.append(confusion)\n",
    "    best_rocs.append(best_roc)\n",
    "    best_models.append(best_model)\n",
    "    print(\"Best alpha:\", best_alpha, \"at random state =\", i**2)\n",
    "\n",
    "best_score = np.max(best_scores)\n",
    "best_alpha = best_alphas[np.argmax(best_scores)]\n",
    "confusion = best_confusion[np.argmax(best_scores)]\n",
    "best_roc = best_rocs[np.argmax(best_scores)]\n",
    "best_model = best_models[np.argmax(best_scores)]"
   ]
  },
  {
   "cell_type": "code",
   "execution_count": 5,
   "metadata": {},
   "outputs": [
    {
     "name": "stdout",
     "output_type": "stream",
     "text": [
      "The accuracy has mean 0.8193703703703703 and std 0.002490448144730449\n"
     ]
    }
   ],
   "source": [
    "means = np.mean(best_scores)\n",
    "std = np.std(best_scores)\n",
    "print(\"The accuracy has mean\", means, \"and std\", std)"
   ]
  },
  {
   "cell_type": "code",
   "execution_count": 6,
   "metadata": {},
   "outputs": [
    {
     "name": "stdout",
     "output_type": "stream",
     "text": [
      "Best score 0.8241666666666667  Best params 0.001\n"
     ]
    }
   ],
   "source": [
    "print(\"Best score\", best_score, \" Best params\", best_alpha)"
   ]
  },
  {
   "cell_type": "code",
   "execution_count": 8,
   "metadata": {},
   "outputs": [
    {
     "data": {
      "image/png": "[encoded data removed]",
      "text/plain": [
       "<Figure size 432x432 with 1 Axes>"
      ]
     },
     "metadata": {
      "needs_background": "light"
     },
     "output_type": "display_data"
    }
   ],
   "source": [
    "from sklearn.metrics import confusion_matrix\n",
    "cm = confusion_matrix(confusion[0], confusion[1])\n",
    "logistics_cm = {'DR': 0, 'FAR': 0, 'FNR': 0, 'TNR':0}\n",
    "DR = cm[1,1]\n",
    "FAR = cm[0,1]\n",
    "FNR = cm[1,0]\n",
    "TNR = cm[0,0]\n",
    "logistics_cm['DR'] += DR\n",
    "logistics_cm['FAR'] += FAR\n",
    "logistics_cm['FNR'] += FNR\n",
    "logistics_cm['TNR'] += TNR\n",
    "\n",
    "# plot confusion matrix\n",
    "import seaborn as sns\n",
    "log_cm_df = pd.DataFrame([[logistics_cm['DR'],logistics_cm['FNR']],\n",
    "                          [logistics_cm['FAR'], logistics_cm['TNR']]], index=[1, 0], columns = [1, 0])\n",
    "log_cm_df1 = log_cm_df.astype('float') / log_cm_df.sum(axis=1)[:, np.newaxis]\n",
    "plt.figure(figsize = (6,6))\n",
    "plt.title(\"Logistics Regression Confusion Matrix, Normalized\")\n",
    "sns.heatmap(log_cm_df1, annot=True, fmt='g', cbar=False, \n",
    "           annot_kws={\"size\": 16}, cmap=\"Blues\")\n",
    "plt.xlabel(\"Predicted Label\")\n",
    "plt.ylabel(\"True Label\")\n",
    "plt.savefig('../figures/confusion_matrix_lr.png',dpi=300)\n",
    "plt.show()"
   ]
  },
  {
   "cell_type": "code",
   "execution_count": 1,
   "metadata": {},
   "outputs": [
    {
     "ename": "NameError",
     "evalue": "name 'plt' is not defined",
     "output_type": "error",
     "traceback": [
      "\u001b[0;31m---------------------------------------------------------------------------\u001b[0m",
      "\u001b[0;31mNameError\u001b[0m                                 Traceback (most recent call last)",
      "\u001b[0;32m<ipython-input-1-cf6af68fe48d>\u001b[0m in \u001b[0;36m<module>\u001b[0;34m\u001b[0m\n\u001b[0;32m----> 1\u001b[0;31m \u001b[0mplt\u001b[0m\u001b[0;34m.\u001b[0m\u001b[0mplot\u001b[0m\u001b[0;34m(\u001b[0m\u001b[0mbest_roc\u001b[0m\u001b[0;34m[\u001b[0m\u001b[0;36m0\u001b[0m\u001b[0;34m]\u001b[0m\u001b[0;34m,\u001b[0m \u001b[0mbest_roc\u001b[0m\u001b[0;34m[\u001b[0m\u001b[0;36m1\u001b[0m\u001b[0;34m]\u001b[0m\u001b[0;34m,\u001b[0m \u001b[0;34m'b'\u001b[0m\u001b[0;34m,\u001b[0m \u001b[0mlabel\u001b[0m \u001b[0;34m=\u001b[0m \u001b[0;34m'AUC = %0.2f'\u001b[0m \u001b[0;34m%\u001b[0m \u001b[0mbest_roc\u001b[0m\u001b[0;34m[\u001b[0m\u001b[0;36m2\u001b[0m\u001b[0;34m]\u001b[0m\u001b[0;34m)\u001b[0m\u001b[0;34m\u001b[0m\u001b[0;34m\u001b[0m\u001b[0m\n\u001b[0m\u001b[1;32m      2\u001b[0m \u001b[0mplt\u001b[0m\u001b[0;34m.\u001b[0m\u001b[0mtitle\u001b[0m\u001b[0;34m(\u001b[0m\u001b[0;34m'Receiver Operating Characteristic Logistic Regression'\u001b[0m\u001b[0;34m)\u001b[0m\u001b[0;34m\u001b[0m\u001b[0;34m\u001b[0m\u001b[0m\n\u001b[1;32m      3\u001b[0m \u001b[0mplt\u001b[0m\u001b[0;34m.\u001b[0m\u001b[0mlegend\u001b[0m\u001b[0;34m(\u001b[0m\u001b[0mloc\u001b[0m \u001b[0;34m=\u001b[0m \u001b[0;34m'lower right'\u001b[0m\u001b[0;34m)\u001b[0m\u001b[0;34m\u001b[0m\u001b[0;34m\u001b[0m\u001b[0m\n\u001b[1;32m      4\u001b[0m \u001b[0mplt\u001b[0m\u001b[0;34m.\u001b[0m\u001b[0mplot\u001b[0m\u001b[0;34m(\u001b[0m\u001b[0;34m[\u001b[0m\u001b[0;36m0\u001b[0m\u001b[0;34m,\u001b[0m \u001b[0;36m1\u001b[0m\u001b[0;34m]\u001b[0m\u001b[0;34m,\u001b[0m \u001b[0;34m[\u001b[0m\u001b[0;36m0\u001b[0m\u001b[0;34m,\u001b[0m \u001b[0;36m1\u001b[0m\u001b[0;34m]\u001b[0m\u001b[0;34m,\u001b[0m\u001b[0;34m'r--'\u001b[0m\u001b[0;34m)\u001b[0m\u001b[0;34m\u001b[0m\u001b[0;34m\u001b[0m\u001b[0m\n\u001b[1;32m      5\u001b[0m \u001b[0mplt\u001b[0m\u001b[0;34m.\u001b[0m\u001b[0mxlim\u001b[0m\u001b[0;34m(\u001b[0m\u001b[0;34m[\u001b[0m\u001b[0;36m0\u001b[0m\u001b[0;34m,\u001b[0m \u001b[0;36m1\u001b[0m\u001b[0;34m]\u001b[0m\u001b[0;34m)\u001b[0m\u001b[0;34m\u001b[0m\u001b[0;34m\u001b[0m\u001b[0m\n",
      "\u001b[0;31mNameError\u001b[0m: name 'plt' is not defined"
     ]
    }
   ],
   "source": [
    "plt.plot(best_roc[0], best_roc[1], 'b', label = 'AUC = %0.2f' % best_roc[2])\n",
    "plt.title('Receiver Operating Characteristic Logistic Regression')\n",
    "plt.legend(loc = 'lower right')\n",
    "plt.plot([0, 1], [0, 1],'r--')\n",
    "plt.xlim([0, 1])\n",
    "plt.ylim([0, 1])\n",
    "plt.ylabel('True Positive Rate')\n",
    "plt.xlabel('False Positive Rate')\n",
    "plt.savefig('../figures/roc_lr.png',dpi=300)\n",
    "plt.show()"
   ]
  },
  {
   "cell_type": "code",
   "execution_count": 10,
   "metadata": {},
   "outputs": [
    {
     "name": "stdout",
     "output_type": "stream",
     "text": [
      "test score =  0.8213333333333334\n",
      "test baseline =  0.7788333333333334\n",
      "shuffling LIMIT_BAL\n",
      "   shuffled test score: 0.82 +/- 0.001\n",
      "shuffling SEX\n",
      "   shuffled test score: 0.821 +/- 0.0\n",
      "shuffling EDUCATION\n",
      "   shuffled test score: 0.82 +/- 0.0\n",
      "shuffling MARRIAGE\n",
      "   shuffled test score: 0.821 +/- 0.0\n",
      "shuffling AGE\n",
      "   shuffled test score: 0.822 +/- 0.001\n",
      "shuffling PAY_0\n",
      "   shuffled test score: 0.783 +/- 0.002\n",
      "shuffling PAY_2\n",
      "   shuffled test score: 0.819 +/- 0.001\n",
      "shuffling PAY_3\n",
      "   shuffled test score: 0.82 +/- 0.001\n",
      "shuffling PAY_4\n",
      "   shuffled test score: 0.821 +/- 0.001\n",
      "shuffling PAY_5\n",
      "   shuffled test score: 0.821 +/- 0.0\n",
      "shuffling PAY_6\n",
      "   shuffled test score: 0.82 +/- 0.001\n",
      "shuffling BILL_AMT1\n",
      "   shuffled test score: 0.823 +/- 0.0\n",
      "shuffling BILL_AMT2\n",
      "   shuffled test score: 0.821 +/- 0.0\n",
      "shuffling BILL_AMT3\n",
      "   shuffled test score: 0.817 +/- 0.002\n",
      "shuffling BILL_AMT4\n",
      "   shuffled test score: 0.823 +/- 0.001\n",
      "shuffling BILL_AMT5\n",
      "   shuffled test score: 0.821 +/- 0.001\n",
      "shuffling BILL_AMT6\n",
      "   shuffled test score: 0.823 +/- 0.001\n",
      "shuffling PAY_AMT1\n",
      "   shuffled test score: 0.821 +/- 0.0\n",
      "shuffling PAY_AMT2\n",
      "   shuffled test score: 0.821 +/- 0.001\n",
      "shuffling PAY_AMT3\n",
      "   shuffled test score: 0.822 +/- 0.0\n",
      "shuffling PAY_AMT4\n",
      "   shuffled test score: 0.822 +/- 0.0\n",
      "shuffling PAY_AMT5\n",
      "   shuffled test score: 0.822 +/- 0.0\n",
      "shuffling PAY_AMT6\n",
      "   shuffled test score: 0.821 +/- 0.0\n",
      "shuffling PAY_0_-2\n",
      "   shuffled test score: 0.821 +/- 0.001\n",
      "shuffling PAY_0_-1\n",
      "   shuffled test score: 0.818 +/- 0.001\n",
      "shuffling PAY_0_0\n",
      "   shuffled test score: 0.806 +/- 0.002\n",
      "shuffling PAY_2_-2\n",
      "   shuffled test score: 0.818 +/- 0.002\n",
      "shuffling PAY_2_-1\n",
      "   shuffled test score: 0.82 +/- 0.002\n",
      "shuffling PAY_2_0\n",
      "   shuffled test score: 0.821 +/- 0.001\n",
      "shuffling PAY_3_-2\n",
      "   shuffled test score: 0.821 +/- 0.0\n",
      "shuffling PAY_3_-1\n",
      "   shuffled test score: 0.822 +/- 0.0\n",
      "shuffling PAY_3_0\n",
      "   shuffled test score: 0.815 +/- 0.002\n",
      "shuffling PAY_4_-2\n",
      "   shuffled test score: 0.822 +/- 0.001\n",
      "shuffling PAY_4_-1\n",
      "   shuffled test score: 0.82 +/- 0.0\n",
      "shuffling PAY_4_0\n",
      "   shuffled test score: 0.819 +/- 0.001\n",
      "shuffling PAY_5_-2\n",
      "   shuffled test score: 0.821 +/- 0.0\n",
      "shuffling PAY_5_-1\n",
      "   shuffled test score: 0.821 +/- 0.0\n",
      "shuffling PAY_5_0\n",
      "   shuffled test score: 0.821 +/- 0.0\n",
      "shuffling PAY_6_-2\n",
      "   shuffled test score: 0.822 +/- 0.001\n",
      "shuffling PAY_6_-1\n",
      "   shuffled test score: 0.822 +/- 0.001\n",
      "shuffling PAY_6_0\n",
      "   shuffled test score: 0.821 +/- 0.0\n"
     ]
    }
   ],
   "source": [
    "nr_runs = 10\n",
    "scores = np.zeros([len(ftr_names), nr_runs])\n",
    "X_other, X_test, y_other, y_test = train_test_split(X, y, test_size=0.2, random_state = 36, stratify = y)\n",
    "X_test.reset_index(drop=True, inplace=True)\n",
    "y_test.reset_index(drop=True, inplace=True)\n",
    "\n",
    "X_test_copy, sscaler, ohe, minmax = preprocess_train(X_test.copy())\n",
    "\n",
    "test_score = best_model.score(X_test_copy,y_test)\n",
    "\n",
    "print('test score = ', test_score)\n",
    "print('test baseline = ', np.sum(y_test == 0)/len(y_test))\n",
    "\n",
    "# loop through the features\n",
    "for i in range(len(ftr_names)):\n",
    "    print('shuffling '+str(ftr_names[i]))\n",
    "    acc_scores = []\n",
    "    for j in range(nr_runs):\n",
    "        \n",
    "        X_test_shuffled = X_test.copy()\n",
    "        X_test_shuffled[ftr_names[i]] = np.random.permutation(X_test[ftr_names[i]].values)\n",
    "        X_test_shuffled, sscaler, ohe, minmax = preprocess_train(X_test_shuffled)\n",
    "        acc_scores.append(best_model.score(X_test_shuffled,y_test))\n",
    "    print('   shuffled test score:',np.around(np.mean(acc_scores),3),'+/-',np.around(np.std(acc_scores),3))\n",
    "    scores[i] = acc_scores"
   ]
  },
  {
   "cell_type": "code",
   "execution_count": 11,
   "metadata": {},
   "outputs": [
    {
     "data": {
      "image/png": "[encoded data removed]",
      "text/plain": [
       "<Figure size 576x432 with 1 Axes>"
      ]
     },
     "metadata": {
      "needs_background": "light"
     },
     "output_type": "display_data"
    }
   ],
   "source": [
    "sorted_indcs = np.argsort(np.mean(scores,axis=1))[::-1]\n",
    "plt.rcParams.update({'font.size': 14})\n",
    "plt.figure(figsize=(8,6))\n",
    "plt.boxplot(scores[sorted_indcs].T,labels=ftr_names[sorted_indcs],vert=False)\n",
    "plt.axvline(test_score,label='test score')\n",
    "plt.title(\"Permutation Importances Logistic Regression (test set)\")\n",
    "plt.xlabel('score with perturbed feature')\n",
    "plt.legend(loc = 3)\n",
    "plt.yticks(fontsize=8)\n",
    "plt.tight_layout()\n",
    "plt.savefig('../figures/feature_importance_lr.png',dpi=300)\n",
    "plt.show()"
   ]
  },
  {
   "cell_type": "code",
   "execution_count": 6,
   "metadata": {},
   "outputs": [],
   "source": [
    "model = ML_pipeline_kfold_logi_reg(X,y,1,5)\n",
    "import pickle\n",
    "filename = '../results/logi_reg_for_this_data.sav'\n",
    "pickle.dump(model, open(filename, 'wb'))"
   ]
  },
  {
   "cell_type": "code",
   "execution_count": null,
   "metadata": {},
   "outputs": [],
   "source": []
  },
  {
   "cell_type": "code",
   "execution_count": null,
   "metadata": {},
   "outputs": [],
   "source": []
  }
 ],
 "metadata": {
  "kernelspec": {
   "display_name": "Python 3",
   "language": "python",
   "name": "python3"
  },
  "language_info": {
   "codemirror_mode": {
    "name": "ipython",
    "version": 3
   },
   "file_extension": ".py",
   "mimetype": "text/x-python",
   "name": "python",
   "nbconvert_exporter": "python",
   "pygments_lexer": "ipython3",
   "version": "3.7.3"
  }
 },
 "nbformat": 4,
 "nbformat_minor": 4
}
